{
 "cells": [
  {
   "cell_type": "code",
   "execution_count": null,
   "id": "5c53996a",
   "metadata": {},
   "outputs": [],
   "source": []
  },
  {
   "cell_type": "markdown",
   "id": "5e86d0ee",
   "metadata": {},
   "source": [
    "---\n",
    "\n",
    "Evaluating EOFMs for Downstream Tasks\n",
    "\n",
    "---"
   ]
  }
 ],
 "metadata": {
  "language_info": {
   "name": "python"
  }
 },
 "nbformat": 4,
 "nbformat_minor": 5
}
